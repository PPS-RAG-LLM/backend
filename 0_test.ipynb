{
 "cells": [
  {
   "cell_type": "code",
   "execution_count": 2,
   "id": "b3a46032",
   "metadata": {},
   "outputs": [
    {
     "name": "stdout",
     "output_type": "stream",
     "text": [
      "추론용 VRAM 대략: 114.8 GB\n"
     ]
    }
   ],
   "source": [
    "# 4B 모델 VRAM 추정 예시\n",
    "params = 120e9\n",
    "dtype_bytes = 1                 # FP16/BF16\n",
    "weight_gb = params * dtype_bytes / (1024**3)\n",
    "activation_gb = 2               # 추론 시 평균치\n",
    "overhead_gb   = 1               # 라이브러리 등\n",
    "\n",
    "vram_needed = weight_gb + activation_gb + overhead_gb\n",
    "print(f\"추론용 VRAM 대략: {vram_needed:.1f} GB\")\n",
    "# => 약 10.5 GB"
   ]
  },
  {
   "cell_type": "code",
   "execution_count": null,
   "id": "bbde61aa",
   "metadata": {},
   "outputs": [],
   "source": [
    "# 학습용 VRAM 추정 스크립트\n",
    "import math\n",
    "\n",
    "# 모델·학습 설정\n",
    "params      = 4e9        # 파라미터 수\n",
    "dtype_bytes = 2          # bfloat16\n",
    "batch_size  = 2\n",
    "seq_len     = 1024\n",
    "hidden_dim  = 4096\n",
    "overhead_gb = 2.0\n",
    "\n",
    "# 메모리 계산\n",
    "weight_gb    = params * dtype_bytes / (1024**3)\n",
    "grad_gb      = weight_gb\n",
    "optim_gb     = 2 * weight_gb\n",
    "activation_gb = batch_size * seq_len * hidden_dim * dtype_bytes / (1024**3)\n",
    "\n",
    "total_gb = weight_gb + grad_gb + optim_gb + activation_gb + overhead_gb\n",
    "\n",
    "print(f\"가중치: {weight_gb:.2f} GB\")\n",
    "print(f\"그래디언트: {grad_gb:.2f} GB\")\n",
    "print(f\"옵티마이저: {optim_gb:.2f} GB\")\n",
    "print(f\"활성화: {activation_gb:.2f} GB\")\n",
    "print(f\"기타 오버헤드: {overhead_gb:.2f} GB\")\n",
    "print(f\"총 VRAM 필요량 ≈ {total_gb:.1f} GB\")"
   ]
  }
 ],
 "metadata": {
  "kernelspec": {
   "display_name": "backend",
   "language": "python",
   "name": "python3"
  },
  "language_info": {
   "codemirror_mode": {
    "name": "ipython",
    "version": 3
   },
   "file_extension": ".py",
   "mimetype": "text/x-python",
   "name": "python",
   "nbconvert_exporter": "python",
   "pygments_lexer": "ipython3",
   "version": "3.12.11"
  }
 },
 "nbformat": 4,
 "nbformat_minor": 5
}
