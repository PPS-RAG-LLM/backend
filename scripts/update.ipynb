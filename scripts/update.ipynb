{
 "cells": [
  {
   "cell_type": "code",
   "execution_count": 1,
   "metadata": {},
   "outputs": [],
   "source": [
    "import sqlite3, pathlib\n",
    "\n",
    "path = \"/home/work/CoreIQ/Ruah/backend/storage/pps_rag.db\"\n",
    "schema_path = \"/home/work/CoreIQ/Ruah/backend/storage/schema.sql\"\n",
    "\n",
    "sql = pathlib.Path(schema_path).read_text(encoding=\"utf-8\")\n",
    "con = sqlite3.connect(path)\n",
    "con.execute(\"PRAGMA foreign_keys=ON;\")\n",
    "con.executescript(sql)\n",
    "con.commit()\n",
    "con.close()\n",
    "\n",
    "\n",
    "def get_db():\n",
    "    conn = sqlite3.connect(path)\n",
    "    conn.row_factory = sqlite3.Row\n",
    "    return conn"
   ]
  },
  {
   "cell_type": "code",
   "execution_count": 5,
   "metadata": {},
   "outputs": [
    {
     "name": "stdout",
     "output_type": "stream",
     "text": [
      "Migration completed: vector_search_mode default set to 'hybrid'\n"
     ]
    }
   ],
   "source": [
    "# storage/db_migrate.py 또는 별도 스크립트\n",
    "import sqlite3\n",
    "from pathlib import Path\n",
    "\n",
    "def migrate_vector_search_mode_default():\n",
    "    \"\"\"vector_search_mode 컬럼에 기본값 'hybrid' 추가\"\"\"\n",
    "    conn = get_db()\n",
    "    try:\n",
    "        # 1. 기존 NULL 값들을 'hybrid'로 업데이트\n",
    "        conn.execute(\"\"\"\n",
    "            UPDATE workspaces SET vector_search_mode = 'hybrid'\n",
    "        \"\"\")\n",
    "        \n",
    "        conn.commit()\n",
    "        print(\"Migration completed: vector_search_mode default set to 'hybrid'\")\n",
    "        \n",
    "    except Exception as e:\n",
    "        conn.rollback()\n",
    "        print(f\"Migration failed: {e}\")\n",
    "        raise\n",
    "    finally:\n",
    "        conn.close()\n",
    "\n",
    "if __name__ == \"__main__\":\n",
    "    migrate_vector_search_mode_default()"
   ]
  }
 ],
 "metadata": {
  "kernelspec": {
   "display_name": "coreIQ",
   "language": "python",
   "name": "python3"
  },
  "language_info": {
   "codemirror_mode": {
    "name": "ipython",
    "version": 3
   },
   "file_extension": ".py",
   "mimetype": "text/x-python",
   "name": "python",
   "nbconvert_exporter": "python",
   "pygments_lexer": "ipython3",
   "version": "3.13.5"
  }
 },
 "nbformat": 4,
 "nbformat_minor": 2
}
